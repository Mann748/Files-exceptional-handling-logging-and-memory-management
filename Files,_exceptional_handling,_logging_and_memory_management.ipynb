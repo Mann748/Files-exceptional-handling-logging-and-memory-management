{
  "nbformat": 4,
  "nbformat_minor": 0,
  "metadata": {
    "colab": {
      "provenance": []
    },
    "kernelspec": {
      "name": "python3",
      "display_name": "Python 3"
    },
    "language_info": {
      "name": "python"
    }
  },
  "cells": [
    {
      "cell_type": "markdown",
      "source": [
        "#Files, exceptional handling, logging and memory management ✈"
      ],
      "metadata": {
        "id": "1qMxC9R-zIzl"
      }
    },
    {
      "cell_type": "markdown",
      "source": [
        "1. What is the difference between interpreted and compiled languages?\n",
        "- An interpreted language is executed line by line by an interpreter at runtime, meaning the program is read and run directly without being translated into machine code beforehand. In contrast, a compiled language is transformed by a compiler into machine code before execution, creating an independent executable file that can run on its own. Interpreted languages typically allow for easier debugging and faster testing cycles, while compiled languages often offer better performance and optimized code execution. The main difference lies in when and how the code is translated and executed by the computer.\n",
        "\n",
        "2. What is exception handling in Python?\n",
        "- Exception handling in Python is a mechanism that allows a program to respond to runtime errors in a controlled and predictable way. Instead of crashing the program when an error occurs, Python provides a way to catch and handle exceptions using the try, except, else, and finally blocks. The try block contains code that might raise an exception, and the except block defines how to respond to specific errors. The else block can run code if no exception occurs, and the finally block is used for cleanup actions that should happen regardless of whether an exception was raised. This approach helps make programs more robust and easier to debug.\n",
        "\n",
        "3. What is the purpose of the finally block in exception handling?\n",
        "- The purpose of the finally block in exception handling is to define a section of code that will always be executed, regardless of whether an exception was raised or not. It is typically used for cleanup actions such as closing files, releasing resources, or resetting variables, ensuring that necessary final steps are taken no matter how the try and except blocks are executed. This guarantees that the program maintains stability and properly handles system resources, even when unexpected errors occur during execution.\n",
        "\n",
        "4. What is logging in Python?\n",
        "- Logging in Python is a way to track events that happen while a program runs, allowing developers to record information about the program's execution for debugging, monitoring, or auditing purposes. Instead of using print statements, the logging module provides a flexible framework for emitting log messages from different parts of a program. It supports different severity levels such as debug, info, warning, error, and critical, and allows logs to be directed to various outputs like the console, files, or external systems. This helps developers understand the program's behavior, identify issues, and maintain code more effectively over time.\n",
        "\n",
        "5. What is the significance of the __del__ method in Python?\n",
        "- The **del** method in Python is a special method known as a destructor, which is called automatically when an object is about to be destroyed or garbage collected. Its main purpose is to allow developers to define cleanup actions that should occur when an object is no longer needed, such as closing files, releasing memory, or disconnecting from a network. While it can help manage resources, its use is generally limited because the exact timing of when it is called is not always predictable, especially when circular references or complex memory management are involved. Therefore, for most resource management tasks, it is recommended to use context managers and the with statement instead.\n",
        "\n",
        "6. What is the difference between import and from ... import in Python?\n",
        "- In Python, the import statement is used to bring an entire module into the current namespace, which means you must reference functions or classes with the module name as a prefix, such as module\\_name.function\\_name. On the other hand, the from ... import statement allows you to import specific functions, classes, or variables directly from a module, so you can use them without the module prefix. This can make the code shorter and more readable, especially when only a few items are needed from a module, but it may also lead to naming conflicts if the imported names overlap with existing ones in the current namespace.\n",
        "\n",
        "7. How can you handle multiple exceptions in Python?\n",
        "- In Python, you can handle multiple exceptions by specifying multiple except blocks after a try block, with each except block targeting a specific type of exception. This allows the program to respond differently depending on the error that occurs. Alternatively, you can handle several exceptions with a single except block by grouping them in a tuple, which is useful when the same action should be taken for multiple exception types. Python evaluates the exceptions in the order they appear, and once a matching exception is caught, the remaining except blocks are skipped. This approach helps make error handling more precise and the program more robust.\n",
        "\n",
        "8. What is the purpose of the with statement when handling files in Python?\n",
        "- The purpose of the with statement when handling files in Python is to simplify resource management by automatically taking care of opening and closing files. When a file is opened using the with statement, Python ensures that the file is properly closed once the block of code inside the with statement is finished, even if an error occurs during execution. This reduces the risk of leaving files open accidentally, which can lead to resource leaks or data corruption. It also makes the code cleaner and more readable by eliminating the need to explicitly call the close method on the file object.\n",
        "\n",
        "9. What is the difference between multithreading and multiprocessing?\n",
        "- The difference between multithreading and multiprocessing in Python lies in how they achieve parallelism. Multithreading involves running multiple threads within the same process, sharing the same memory space, which makes it more lightweight and suitable for tasks that involve waiting, such as input or output operations. However, due to Python’s Global Interpreter Lock, true parallel execution of threads is limited for CPU-bound tasks. Multiprocessing, on the other hand, runs separate processes with their own memory space, allowing true parallel execution on multiple CPU cores, which makes it more effective for CPU-intensive tasks. Each approach has its advantages and is chosen based on the nature of the problem being solved.\n",
        "\n",
        "10. What are the advantages of using logging in a program?\n",
        "- Using logging in a program provides several advantages, including the ability to track the flow of execution, record important events, and capture error messages without interrupting the program. It helps developers debug issues more effectively by providing detailed context about what the program was doing before an error occurred. Logging can be configured to show different levels of information such as debug, info, warning, error, and critical, and can output logs to various destinations like the console, files, or remote servers. This makes it easier to monitor applications in real time and maintain them over time, especially in complex or long-running systems.\n",
        "\n",
        "11. What is memory management in Python?\n",
        "- Memory management in Python refers to the process of allocating and deallocating memory to objects during a program’s execution. Python handles memory management automatically through its built-in memory manager, which includes a private heap space where all objects and data structures are stored. It uses reference counting to keep track of how many references exist to each object, and when an object’s reference count drops to zero, the memory occupied by that object is reclaimed. Additionally, Python has a garbage collector that helps clean up cyclic references which reference counting alone cannot handle. This automatic memory management helps developers focus on writing code without worrying about manual memory allocation or deallocation.\n",
        "\n",
        "12. What are the basic steps involved in exception handling in Python?\n",
        "- The basic steps involved in exception handling in Python start with writing the code that might raise an error inside a try block. If an exception occurs within this block, the program immediately stops executing the try block and looks for an appropriate except block that matches the type of exception raised. The except block contains code to handle the error and allows the program to continue running instead of crashing. Optionally, an else block can be included to run code if no exceptions are raised, and a finally block can be used to execute code that should run regardless of whether an exception occurred, such as cleaning up resources. This structure helps manage errors gracefully and maintain program stability.\n",
        "\n",
        "13. Why is memory management important in Python?\n",
        "- Memory management is important in Python because it ensures that the program uses system resources efficiently and avoids issues like memory leaks, which can slow down or crash applications. Proper memory management allows Python to allocate memory for new objects when needed and reclaim memory from objects that are no longer in use, freeing up space for other parts of the program or system. This automatic handling helps developers focus on writing code without worrying about manual memory allocation and deallocation, while also maintaining performance and stability, especially in long-running or resource-intensive applications.\n",
        "\n",
        "14. What is the role of try and except in exception handling?\n",
        "- The try and except blocks play a central role in exception handling by allowing a program to anticipate and respond to errors gracefully. Code that might raise an exception is placed inside the try block, where Python attempts to execute it normally. If an error occurs during this execution, the program immediately stops running the try block and looks for a matching except block that specifies how to handle that particular type of exception. The except block contains the code that runs in response to the error, helping to prevent the program from crashing and enabling it to continue running or recover from the problem. This structure helps maintain control over unexpected situations and improves program reliability.\n",
        "\n",
        "15.  How does Python's garbage collection system work?\n",
        "- Python’s garbage collection system works by automatically identifying and freeing memory that is no longer needed by the program. It primarily uses reference counting, where each object keeps track of how many references point to it, and when this count drops to zero, the memory occupied by the object is immediately reclaimed. However, reference counting alone cannot handle cyclic references, where objects reference each other but are otherwise unused; to address this, Python also employs a cyclic garbage collector that periodically searches for groups of objects involved in reference cycles and frees their memory. This combination helps manage memory efficiently without requiring the programmer to manually allocate or deallocate memory.\n",
        "\n",
        "16. What is the purpose of the else block in exception handling?\n",
        "- The purpose of the else block in exception handling is to provide a section of code that runs only if no exceptions are raised in the preceding try block. It allows developers to separate the normal execution path from the error handling code, making the program’s logic clearer and more organized. When the try block executes successfully without any errors, the else block runs immediately afterward. However, if an exception occurs and is caught by an except block, the else block is skipped. This helps ensure that certain actions are only performed when everything goes as expected, without interference from error handling.\n",
        "\n",
        "17. What are the common logging levels in Python?\n",
        "- The common logging levels in Python provide a way to categorize the importance and severity of log messages. They include DEBUG, which is used for detailed information useful during development and troubleshooting; INFO, which records general events or progress updates in the program; WARNING, indicating something unexpected or a potential issue that doesn’t stop the program but may require attention; ERROR, which signals a more serious problem that causes part of the program to fail; and CRITICAL, reserved for very severe errors that may lead to program termination. These levels help developers filter and prioritize log messages based on their significance, making it easier to monitor and debug applications effectively.\n",
        "\n",
        "18. What is the difference between os.fork() and multiprocessing in Python?\n",
        "- The difference between os.fork() and the multiprocessing module in Python lies in how they create new processes and manage portability. The os.fork() function directly creates a new child process by duplicating the current process at the operating system level, which is specific to Unix-like systems and provides low-level control over process creation. In contrast, the multiprocessing module offers a higher-level, cross-platform interface for spawning processes, managing communication between them, and sharing data safely, making it suitable for use on Windows as well as Unix systems. While os.fork() gives more control and may be more efficient for simple process creation on Unix, multiprocessing is generally preferred for writing portable, scalable, and easier-to-manage concurrent programs in Python.\n",
        "\n",
        "19. What is the importance of closing a file in Python?\n",
        "- Closing a file in Python is important because it ensures that all data is properly written to the disk and that system resources associated with the file, such as memory and file descriptors, are released. If a file is not closed, changes may not be saved correctly, leading to data loss or corruption, and the program may run into limits on how many files can be open simultaneously. Closing files promptly also helps prevent resource leaks that can degrade system performance over time. Using the with statement is a common practice because it automatically closes the file when the block is exited, even if an error occurs, promoting safer and cleaner code.\n",
        "\n",
        "20. What is the difference between file.read() and file.readline() in Python?\n",
        "- The difference between file.read() and file.readline() in Python lies in how much data they read from a file. The file.read() method reads the entire contents of the file as a single string or up to a specified number of characters if an argument is provided, which is useful when you want to process the whole file at once. In contrast, file.readline() reads the file one line at a time, returning a single line as a string each time it is called, including the newline character at the end. This makes readline() useful for processing files line by line, especially when dealing with large files where loading everything at once might be inefficient or impractical.\n",
        "\n",
        "21.  What is the logging module in Python used for?\n",
        "- The logging module in Python is used for tracking events that happen when software runs, allowing developers to record messages that describe the flow of execution or report errors and important information. It provides a flexible framework for emitting log messages at different severity levels, such as debug, info, warning, error, and critical. These messages can be directed to various outputs like the console, files, or remote servers, making it easier to monitor applications, troubleshoot issues, and maintain code. By using the logging module, developers can gain insights into how their programs behave during execution without interrupting the normal flow with print statements or other debugging methods.\n",
        "\n",
        "22. What is the os module in Python used for in file handling?\n",
        "- The os module in Python is used in file handling to interact with the operating system and perform various file-related operations beyond basic reading and writing. It provides functions to create, delete, rename, and move files and directories, as well as retrieve information about them, such as their size, permissions, and modification times. The module also allows for working with file paths in a platform-independent way, making it easier to write code that runs on different operating systems. Additionally, os can be used to change the current working directory, check if a file or directory exists, and manage environment variables, offering comprehensive tools for managing files and directories within Python programs.\n",
        "\n",
        "23. What are the challenges associated with memory management in Python?\n",
        "- Challenges associated with memory management in Python include dealing with the overhead of automatic memory handling, such as the Global Interpreter Lock (GIL), which can limit performance in multi-threaded programs. Managing reference cycles is another issue, since reference counting alone cannot free objects involved in cyclic references, requiring the garbage collector to identify and clean them up, which can introduce pauses or delays. Additionally, Python’s dynamic nature means objects can vary in size and lifetime, making efficient allocation and deallocation more complex. Memory fragmentation and the overhead of managing numerous small objects can also impact performance, especially in long-running applications or those with heavy memory usage. These challenges require careful consideration when optimizing Python programs for memory efficiency.\n",
        "\n",
        "24.  How do you raise an exception manually in Python?\n",
        "- In Python, you can raise an exception manually using the raise statement, which allows you to trigger an error intentionally when a certain condition occurs in your code. By using raise followed by an exception class or an instance of an exception, you can create custom error messages or enforce rules within your program. This is useful for signaling problems that cannot be handled immediately or for enforcing input validation and other checks. For example, raising a ValueError if a function receives an invalid argument helps communicate the issue clearly to the caller and allows it to be caught and handled using exception handling mechanisms elsewhere in the code.\n",
        "\n",
        "25. Why is it important to use multithreading in certain applications?\n",
        "- Multithreading is important in certain applications because it allows multiple threads to run concurrently within the same program, improving responsiveness and efficiency, especially in tasks that involve waiting for external resources like file I/O, network communication, or user input. By running these operations in separate threads, the main program can continue executing without being blocked, resulting in smoother user experiences and better resource utilization. Although Python’s Global Interpreter Lock can limit true parallelism for CPU-bound tasks, multithreading remains valuable for I/O-bound applications where the ability to perform other work while waiting greatly enhances overall performance and responsiveness.\n",
        "\n"
      ],
      "metadata": {
        "id": "eiIY7CFwzdRi"
      }
    },
    {
      "cell_type": "markdown",
      "source": [
        "#PRACTICAL QUESTIONS ✈"
      ],
      "metadata": {
        "id": "oQ9WZQZZ55v0"
      }
    },
    {
      "cell_type": "markdown",
      "source": [
        "1. How can you open a file for writing in Python and write a string to it?"
      ],
      "metadata": {
        "id": "3CyqD1vH6D7B"
      }
    },
    {
      "cell_type": "code",
      "source": [
        "with open(\"filename.txt\", \"w\") as file:\n",
        "    file.write(\"Your string goes here\")"
      ],
      "metadata": {
        "id": "IE83f0TU6Mzh"
      },
      "execution_count": null,
      "outputs": []
    },
    {
      "cell_type": "markdown",
      "source": [
        "2. Write a Python program to read the contents of a file and print each line."
      ],
      "metadata": {
        "id": "oHO9PoZO6fO3"
      }
    },
    {
      "cell_type": "code",
      "source": [
        "filename = \"example.txt\"  # Replace with your file name\n",
        "\n",
        "with open(filename, \"r\") as file:\n",
        "    for line in file:\n",
        "        print(line, end=\"\")"
      ],
      "metadata": {
        "colab": {
          "base_uri": "https://localhost:8080/",
          "height": 211
        },
        "id": "TvOHeHhq6qyx",
        "outputId": "6a47ab15-b278-4580-a455-7c2b828731df",
        "collapsed": true
      },
      "execution_count": null,
      "outputs": [
        {
          "output_type": "error",
          "ename": "FileNotFoundError",
          "evalue": "[Errno 2] No such file or directory: 'example.txt'",
          "traceback": [
            "\u001b[0;31m---------------------------------------------------------------------------\u001b[0m",
            "\u001b[0;31mFileNotFoundError\u001b[0m                         Traceback (most recent call last)",
            "\u001b[0;32m/tmp/ipython-input-1085808207.py\u001b[0m in \u001b[0;36m<cell line: 0>\u001b[0;34m()\u001b[0m\n\u001b[1;32m      1\u001b[0m \u001b[0mfilename\u001b[0m \u001b[0;34m=\u001b[0m \u001b[0;34m\"example.txt\"\u001b[0m  \u001b[0;31m# Replace with your file name\u001b[0m\u001b[0;34m\u001b[0m\u001b[0;34m\u001b[0m\u001b[0m\n\u001b[1;32m      2\u001b[0m \u001b[0;34m\u001b[0m\u001b[0m\n\u001b[0;32m----> 3\u001b[0;31m \u001b[0;32mwith\u001b[0m \u001b[0mopen\u001b[0m\u001b[0;34m(\u001b[0m\u001b[0mfilename\u001b[0m\u001b[0;34m,\u001b[0m \u001b[0;34m\"r\"\u001b[0m\u001b[0;34m)\u001b[0m \u001b[0;32mas\u001b[0m \u001b[0mfile\u001b[0m\u001b[0;34m:\u001b[0m\u001b[0;34m\u001b[0m\u001b[0;34m\u001b[0m\u001b[0m\n\u001b[0m\u001b[1;32m      4\u001b[0m     \u001b[0;32mfor\u001b[0m \u001b[0mline\u001b[0m \u001b[0;32min\u001b[0m \u001b[0mfile\u001b[0m\u001b[0;34m:\u001b[0m\u001b[0;34m\u001b[0m\u001b[0;34m\u001b[0m\u001b[0m\n\u001b[1;32m      5\u001b[0m         \u001b[0mprint\u001b[0m\u001b[0;34m(\u001b[0m\u001b[0mline\u001b[0m\u001b[0;34m,\u001b[0m \u001b[0mend\u001b[0m\u001b[0;34m=\u001b[0m\u001b[0;34m\"\"\u001b[0m\u001b[0;34m)\u001b[0m\u001b[0;34m\u001b[0m\u001b[0;34m\u001b[0m\u001b[0m\n",
            "\u001b[0;31mFileNotFoundError\u001b[0m: [Errno 2] No such file or directory: 'example.txt'"
          ]
        }
      ]
    },
    {
      "cell_type": "markdown",
      "source": [
        "3. How would you handle a case where the file doesn't exist while trying to open it for reading?"
      ],
      "metadata": {
        "id": "CU6tbZe4-oLR"
      }
    },
    {
      "cell_type": "code",
      "source": [
        "filename = \"example.txt\"\n",
        "\n",
        "try:\n",
        "    with open(filename, 'r') as file:\n",
        "        content = file.read()\n",
        "        print(content)\n",
        "except FileNotFoundError:\n",
        "    print(f\"Error: The file '{filename}' was not found.\")\n"
      ],
      "metadata": {
        "id": "HXBvnHKk-20d"
      },
      "execution_count": null,
      "outputs": []
    },
    {
      "cell_type": "markdown",
      "source": [
        "4. Write a Python script that reads from one file and writes its content to another file."
      ],
      "metadata": {
        "id": "gqUYdZre-6zZ"
      }
    },
    {
      "cell_type": "code",
      "source": [
        "# File paths (you can change these)\n",
        "source_file = \"source.txt\"\n",
        "destination_file = \"destination.txt\"\n",
        "\n",
        "try:\n",
        "    # Open the source file in read mode\n",
        "    with open(source_file, 'r') as src:\n",
        "        content = src.read()  # Read the entire content\n",
        "\n",
        "    # Open the destination file in write mode (creates it if it doesn't exist)\n",
        "    with open(destination_file, 'w') as dest:\n",
        "        dest.write(content)  # Write content to destination\n",
        "\n",
        "    print(f\"Content copied from '{source_file}' to '{destination_file}' successfully.\")\n",
        "\n",
        "except FileNotFoundError:\n",
        "    print(f\"Error: The file '{source_file}' does not exist.\")\n",
        "except IOError as e:\n",
        "    print(f\"An I/O error occurred: {e}\")\n"
      ],
      "metadata": {
        "id": "fCgNmRSO_Cz-"
      },
      "execution_count": null,
      "outputs": []
    },
    {
      "cell_type": "markdown",
      "source": [
        "5. How would you catch and handle division by zero error in Python?"
      ],
      "metadata": {
        "id": "kN03Da_x_I9p"
      }
    },
    {
      "cell_type": "code",
      "source": [
        "try:\n",
        "    result = 10 / 0\n",
        "except ZeroDivisionError:\n",
        "    print(\"Error: Cannot divide by zero.\")\n"
      ],
      "metadata": {
        "colab": {
          "base_uri": "https://localhost:8080/"
        },
        "id": "tmIoShHt_YKG",
        "outputId": "d93a3f7a-84c0-4911-ff1a-901b2d6fe646"
      },
      "execution_count": 1,
      "outputs": [
        {
          "output_type": "stream",
          "name": "stdout",
          "text": [
            "Error: Cannot divide by zero.\n"
          ]
        }
      ]
    },
    {
      "cell_type": "markdown",
      "source": [
        "6. Write a Python program that logs an error message to a log file when a division by zero exception occurs?"
      ],
      "metadata": {
        "id": "wMDMjsa1_cQ4"
      }
    },
    {
      "cell_type": "code",
      "source": [
        "import logging\n",
        "\n",
        "# Configure logging\n",
        "logging.basicConfig(\n",
        "    filename='error.log',          # Log file name\n",
        "    level=logging.ERROR,           # Log only errors or more critical messages\n",
        "    format='%(asctime)s - %(levelname)s - %(message)s'\n",
        ")\n",
        "\n",
        "def divide(a, b):\n",
        "    try:\n",
        "        result = a / b\n",
        "        print(f\"The result is: {result}\")\n",
        "    except ZeroDivisionError as e:\n",
        "        logging.error(\"Attempted to divide by zero\", exc_info=True)\n",
        "        print(\"Error: Cannot divide by zero.\")\n",
        "\n",
        "# Example usage\n",
        "x = 10\n",
        "y = 0\n",
        "divide(x, y)\n"
      ],
      "metadata": {
        "colab": {
          "base_uri": "https://localhost:8080/"
        },
        "id": "h1GXuype_lpw",
        "outputId": "f64284d8-52c6-41f6-bd82-983bb2f3a94d"
      },
      "execution_count": 2,
      "outputs": [
        {
          "output_type": "stream",
          "name": "stderr",
          "text": [
            "ERROR:root:Attempted to divide by zero\n",
            "Traceback (most recent call last):\n",
            "  File \"/tmp/ipython-input-1002312530.py\", line 12, in divide\n",
            "    result = a / b\n",
            "             ~~^~~\n",
            "ZeroDivisionError: division by zero\n"
          ]
        },
        {
          "output_type": "stream",
          "name": "stdout",
          "text": [
            "Error: Cannot divide by zero.\n"
          ]
        }
      ]
    },
    {
      "cell_type": "markdown",
      "source": [
        "7. How do you log information at different levels (INFO, ERROR, WARNING) in Python using the logging module?"
      ],
      "metadata": {
        "id": "yVtHP-Ov_rK3"
      }
    },
    {
      "cell_type": "code",
      "source": [
        "import logging\n",
        "\n",
        "# Configure the logging\n",
        "logging.basicConfig(\n",
        "    filename='app.log',              # Output file\n",
        "    level=logging.DEBUG,             # Capture all levels >= DEBUG\n",
        "    format='%(asctime)s - %(levelname)s - %(message)s'\n",
        ")\n",
        "\n",
        "# Log messages at various levels\n",
        "logging.debug(\"This is a debug message (useful for diagnosing problems)\")\n",
        "logging.info(\"This is an info message (general program status)\")\n",
        "logging.warning(\"This is a warning message (something unexpected happened)\")\n",
        "logging.error(\"This is an error message (a failure occurred)\")\n",
        "logging.critical(\"This is a critical message (severe error, program may abort)\")\n"
      ],
      "metadata": {
        "colab": {
          "base_uri": "https://localhost:8080/"
        },
        "id": "8TW5wUPf_y28",
        "outputId": "230e1733-f00e-4dda-8fb0-9e2c79e6500c"
      },
      "execution_count": 3,
      "outputs": [
        {
          "output_type": "stream",
          "name": "stderr",
          "text": [
            "WARNING:root:This is a warning message (something unexpected happened)\n",
            "ERROR:root:This is an error message (a failure occurred)\n",
            "CRITICAL:root:This is a critical message (severe error, program may abort)\n"
          ]
        }
      ]
    },
    {
      "cell_type": "markdown",
      "source": [
        "8. Write a program to handle a file opening error using exception handling."
      ],
      "metadata": {
        "id": "O9kvtDwl_-Gv"
      }
    },
    {
      "cell_type": "code",
      "source": [
        "def read_file(filename):\n",
        "    try:\n",
        "        with open(filename, 'r') as file:\n",
        "            contents = file.read()\n",
        "            print(\"File Contents:\\n\", contents)\n",
        "    except FileNotFoundError:\n",
        "        print(f\"Error: The file '{filename}' was not found.\")\n",
        "    except PermissionError:\n",
        "        print(f\"Error: You do not have permission to read the file '{filename}'.\")\n",
        "    except Exception as e:\n",
        "        print(f\"An unexpected error occurred: {e}\")\n",
        "\n",
        "# Example usage\n",
        "read_file(\"nonexistent_file.txt\")\n"
      ],
      "metadata": {
        "colab": {
          "base_uri": "https://localhost:8080/"
        },
        "id": "Mehh_xMtAExV",
        "outputId": "4331d705-21c4-4243-82a5-ecee57103aa9"
      },
      "execution_count": 4,
      "outputs": [
        {
          "output_type": "stream",
          "name": "stdout",
          "text": [
            "Error: The file 'nonexistent_file.txt' was not found.\n"
          ]
        }
      ]
    },
    {
      "cell_type": "markdown",
      "source": [
        "9. How can you read a file line by line and store its content in a list in Python."
      ],
      "metadata": {
        "id": "DSLjpoDHAIYj"
      }
    },
    {
      "cell_type": "code",
      "source": [
        "def read_lines_to_list(filename):\n",
        "    try:\n",
        "        with open(filename, 'r') as file:\n",
        "            lines = file.readlines()  # Returns a list of all lines\n",
        "            return [line.strip() for line in lines]  # Remove trailing newlines\n",
        "    except FileNotFoundError:\n",
        "        print(f\"Error: The file '{filename}' was not found.\")\n",
        "        return []\n",
        "    except Exception as e:\n",
        "        print(f\"An error occurred: {e}\")\n",
        "        return []\n",
        "\n",
        "# Example usage\n",
        "file_content = read_lines_to_list(\"example.txt\")\n",
        "print(file_content)\n"
      ],
      "metadata": {
        "colab": {
          "base_uri": "https://localhost:8080/"
        },
        "id": "gq2PbOpYAQO5",
        "outputId": "adcf2ac8-372a-40a9-a537-f2d4c9786df6"
      },
      "execution_count": 5,
      "outputs": [
        {
          "output_type": "stream",
          "name": "stdout",
          "text": [
            "Error: The file 'example.txt' was not found.\n",
            "[]\n"
          ]
        }
      ]
    },
    {
      "cell_type": "markdown",
      "source": [
        "10. How can you append data to an existing file in Python?"
      ],
      "metadata": {
        "id": "VAbP29ZKAWT9"
      }
    },
    {
      "cell_type": "code",
      "source": [
        "def append_to_file(filename, data):\n",
        "    try:\n",
        "        with open(filename, 'a') as file:\n",
        "            file.write(data + '\\n')  # Add newline after each entry\n",
        "        print(\"Data appended successfully.\")\n",
        "    except Exception as e:\n",
        "        print(f\"An error occurred: {e}\")\n",
        "\n",
        "# Example usage\n",
        "append_to_file(\"log.txt\", \"This is a new log entry.\")\n"
      ],
      "metadata": {
        "colab": {
          "base_uri": "https://localhost:8080/"
        },
        "id": "iL0A3sZjAg5w",
        "outputId": "6857f859-3387-41f2-92ca-d9236bc8f8cc"
      },
      "execution_count": 6,
      "outputs": [
        {
          "output_type": "stream",
          "name": "stdout",
          "text": [
            "Data appended successfully.\n"
          ]
        }
      ]
    },
    {
      "cell_type": "markdown",
      "source": [
        "11. Write a Python program that uses a try-except block to handle an error when attempting to access a\n",
        "dictionary key that doesn't exist."
      ],
      "metadata": {
        "id": "Rq1eJNntAjsp"
      }
    },
    {
      "cell_type": "code",
      "source": [
        "def get_value_from_dict(my_dict, key):\n",
        "    try:\n",
        "        value = my_dict[key]\n",
        "        print(f\"The value for key '{key}' is: {value}\")\n",
        "    except KeyError:\n",
        "        print(f\"Error: The key '{key}' does not exist in the dictionary.\")\n",
        "\n",
        "# Example usage\n",
        "sample_dict = {\n",
        "    'name': 'Alice',\n",
        "    'age': 30,\n",
        "    'city': 'New York'\n",
        "}\n",
        "\n",
        "# Attempt to access an existing and a non-existing key\n",
        "get_value_from_dict(sample_dict, 'age')      # Exists\n",
        "get_value_from_dict(sample_dict, 'country')  # Does not exist\n"
      ],
      "metadata": {
        "colab": {
          "base_uri": "https://localhost:8080/"
        },
        "id": "Kgfa1xgJAqWm",
        "outputId": "06e33005-a991-434a-f665-390fae9c13b8"
      },
      "execution_count": 7,
      "outputs": [
        {
          "output_type": "stream",
          "name": "stdout",
          "text": [
            "The value for key 'age' is: 30\n",
            "Error: The key 'country' does not exist in the dictionary.\n"
          ]
        }
      ]
    },
    {
      "cell_type": "markdown",
      "source": [
        "12. Write a program that demonstrates using multiple except blocks to handle different types of exceptions."
      ],
      "metadata": {
        "id": "-wGZiphZAxHg"
      }
    },
    {
      "cell_type": "code",
      "source": [
        "def exception_demo():\n",
        "    try:\n",
        "        # Simulate user input\n",
        "        num1 = int(input(\"Enter a number: \"))   # May raise ValueError\n",
        "        num2 = int(input(\"Enter another number: \"))\n",
        "\n",
        "        result = num1 / num2                    # May raise ZeroDivisionError\n",
        "        print(f\"Result: {result}\")\n",
        "\n",
        "        data = {\"name\": \"Alice\", \"age\": 30}\n",
        "        print(\"City:\", data[\"city\"])            # May raise KeyError\n",
        "\n",
        "    except ValueError:\n",
        "        print(\"Error: Please enter valid integers.\")\n",
        "    except ZeroDivisionError:\n",
        "        print(\"Error: Division by zero is not allowed.\")\n",
        "    except KeyError as e:\n",
        "        print(f\"Error: Missing key in dictionary - {e}\")\n",
        "    except Exception as e:\n",
        "        print(f\"An unexpected error occurred: {e}\")\n",
        "\n",
        "# Run the function\n",
        "exception_demo()\n"
      ],
      "metadata": {
        "colab": {
          "base_uri": "https://localhost:8080/"
        },
        "id": "UsCt1MD6A4Np",
        "outputId": "403ac5c7-85ea-459d-afb3-0e3380ff78f4"
      },
      "execution_count": 1,
      "outputs": [
        {
          "output_type": "stream",
          "name": "stdout",
          "text": [
            "Enter a number: 3\n",
            "Enter another number: 4\n",
            "Result: 0.75\n",
            "Error: Missing key in dictionary - 'city'\n"
          ]
        }
      ]
    },
    {
      "cell_type": "markdown",
      "source": [
        "13. How would you check if a file exists before attempting to read it in Python."
      ],
      "metadata": {
        "id": "pjtlfWDJBAuz"
      }
    },
    {
      "cell_type": "code",
      "source": [
        "from pathlib import Path\n",
        "\n",
        "filename = Path(\"example.txt\")\n",
        "\n",
        "if filename.exists():\n",
        "    with open(filename, 'r') as file:\n",
        "        contents = file.read()\n",
        "        print(contents)\n",
        "else:\n",
        "    print(f\"The file '{filename}' does not exist.\")\n"
      ],
      "metadata": {
        "colab": {
          "base_uri": "https://localhost:8080/"
        },
        "id": "xewQFwglBS4i",
        "outputId": "ca65f32c-fff6-4504-f698-48b7990ba911"
      },
      "execution_count": 9,
      "outputs": [
        {
          "output_type": "stream",
          "name": "stdout",
          "text": [
            "The file 'example.txt' does not exist.\n"
          ]
        }
      ]
    },
    {
      "cell_type": "markdown",
      "source": [
        "14. Write a program that uses the logging module to log both informational and error messages."
      ],
      "metadata": {
        "id": "yepY7lwHBXPA"
      }
    },
    {
      "cell_type": "code",
      "source": [
        "import logging\n",
        "\n",
        "# Configure logging\n",
        "logging.basicConfig(\n",
        "    filename='app.log',            # Log file name\n",
        "    level=logging.INFO,            # Log INFO and above (INFO, WARNING, ERROR, CRITICAL)\n",
        "    format='%(asctime)s - %(levelname)s - %(message)s'\n",
        ")\n",
        "\n",
        "def divide(a, b):\n",
        "    logging.info(f\"Attempting to divide {a} by {b}\")\n",
        "    try:\n",
        "        result = a / b\n",
        "        logging.info(f\"Division successful: {result}\")\n",
        "        return result\n",
        "    except ZeroDivisionError:\n",
        "        logging.error(\"Error: Division by zero attempted\", exc_info=True)\n",
        "        return None\n",
        "\n",
        "# Example usage\n",
        "divide(10, 2)\n",
        "divide(10, 0)\n"
      ],
      "metadata": {
        "colab": {
          "base_uri": "https://localhost:8080/"
        },
        "id": "2ZJcV99FBi6V",
        "outputId": "429e66b0-417e-4d43-d696-ae3ccb518219"
      },
      "execution_count": 10,
      "outputs": [
        {
          "output_type": "stream",
          "name": "stderr",
          "text": [
            "ERROR:root:Error: Division by zero attempted\n",
            "Traceback (most recent call last):\n",
            "  File \"/tmp/ipython-input-3544525200.py\", line 13, in divide\n",
            "    result = a / b\n",
            "             ~~^~~\n",
            "ZeroDivisionError: division by zero\n"
          ]
        }
      ]
    },
    {
      "cell_type": "markdown",
      "source": [
        "15.  Write a Python program that prints the content of a file and handles the case when the file is empty."
      ],
      "metadata": {
        "id": "FblzsD-DBoxP"
      }
    },
    {
      "cell_type": "code",
      "source": [
        "def print_file_contents(filename):\n",
        "    try:\n",
        "        with open(filename, 'r') as file:\n",
        "            contents = file.read()\n",
        "            if contents:\n",
        "                print(\"File Contents:\\n\")\n",
        "                print(contents)\n",
        "            else:\n",
        "                print(f\"The file '{filename}' is empty.\")\n",
        "    except FileNotFoundError:\n",
        "        print(f\"Error: The file '{filename}' does not exist.\")\n",
        "    except Exception as e:\n",
        "        print(f\"An error occurred: {e}\")\n",
        "\n",
        "# Example usage\n",
        "print_file_contents(\"example.txt\")\n"
      ],
      "metadata": {
        "colab": {
          "base_uri": "https://localhost:8080/"
        },
        "id": "Pr8MkZ11Bx2F",
        "outputId": "c45d0477-a118-4818-ac11-8639d9e696b7"
      },
      "execution_count": 11,
      "outputs": [
        {
          "output_type": "stream",
          "name": "stdout",
          "text": [
            "Error: The file 'example.txt' does not exist.\n"
          ]
        }
      ]
    },
    {
      "cell_type": "markdown",
      "source": [
        "16. Demonstrate how to use memory profiling to check the memory usage of a small program.\n"
      ],
      "metadata": {
        "id": "lGubP0KFB0nM"
      }
    },
    {
      "cell_type": "code",
      "source": [
        "from memory_profiler import profile\n",
        "\n",
        "@profile\n",
        "def create_large_list():\n",
        "    # Create a large list of numbers\n",
        "    numbers = [i for i in range(10**6)]\n",
        "    print(\"List created\")\n",
        "\n",
        "if __name__ == \"__main__\":\n",
        "    create_large_list()\n"
      ],
      "metadata": {
        "colab": {
          "base_uri": "https://localhost:8080/",
          "height": 383
        },
        "id": "SN3tTFLGB7EH",
        "outputId": "a91ab461-c407-414f-e3df-fddcfa2b00c1"
      },
      "execution_count": 12,
      "outputs": [
        {
          "output_type": "error",
          "ename": "ModuleNotFoundError",
          "evalue": "No module named 'memory_profiler'",
          "traceback": [
            "\u001b[0;31m---------------------------------------------------------------------------\u001b[0m",
            "\u001b[0;31mModuleNotFoundError\u001b[0m                       Traceback (most recent call last)",
            "\u001b[0;32m/tmp/ipython-input-1602607530.py\u001b[0m in \u001b[0;36m<cell line: 0>\u001b[0;34m()\u001b[0m\n\u001b[0;32m----> 1\u001b[0;31m \u001b[0;32mfrom\u001b[0m \u001b[0mmemory_profiler\u001b[0m \u001b[0;32mimport\u001b[0m \u001b[0mprofile\u001b[0m\u001b[0;34m\u001b[0m\u001b[0;34m\u001b[0m\u001b[0m\n\u001b[0m\u001b[1;32m      2\u001b[0m \u001b[0;34m\u001b[0m\u001b[0m\n\u001b[1;32m      3\u001b[0m \u001b[0;34m@\u001b[0m\u001b[0mprofile\u001b[0m\u001b[0;34m\u001b[0m\u001b[0;34m\u001b[0m\u001b[0m\n\u001b[1;32m      4\u001b[0m \u001b[0;32mdef\u001b[0m \u001b[0mcreate_large_list\u001b[0m\u001b[0;34m(\u001b[0m\u001b[0;34m)\u001b[0m\u001b[0;34m:\u001b[0m\u001b[0;34m\u001b[0m\u001b[0;34m\u001b[0m\u001b[0m\n\u001b[1;32m      5\u001b[0m     \u001b[0;31m# Create a large list of numbers\u001b[0m\u001b[0;34m\u001b[0m\u001b[0;34m\u001b[0m\u001b[0m\n",
            "\u001b[0;31mModuleNotFoundError\u001b[0m: No module named 'memory_profiler'",
            "",
            "\u001b[0;31m---------------------------------------------------------------------------\u001b[0;32m\nNOTE: If your import is failing due to a missing package, you can\nmanually install dependencies using either !pip or !apt.\n\nTo view examples of installing some common dependencies, click the\n\"Open Examples\" button below.\n\u001b[0;31m---------------------------------------------------------------------------\u001b[0m\n"
          ],
          "errorDetails": {
            "actions": [
              {
                "action": "open_url",
                "actionText": "Open Examples",
                "url": "/notebooks/snippets/importing_libraries.ipynb"
              }
            ]
          }
        }
      ]
    },
    {
      "cell_type": "markdown",
      "source": [
        "17. Write a Python program to create and write a list of numbers to a file, one number per line."
      ],
      "metadata": {
        "id": "sP1GLTyjB_C-"
      }
    },
    {
      "cell_type": "code",
      "source": [
        "# List of numbers\n",
        "numbers = [1, 2, 3, 4, 5, 6, 7, 8, 9, 10]\n",
        "\n",
        "# Open a file in write mode\n",
        "with open('numbers.txt', 'w') as file:\n",
        "    # Write each number on a new line\n",
        "    for number in numbers:\n",
        "        file.write(str(number) + '\\n')\n",
        "\n",
        "print(\"Numbers have been written to numbers.txt\")\n"
      ],
      "metadata": {
        "colab": {
          "base_uri": "https://localhost:8080/"
        },
        "id": "VhynIkbDCKaX",
        "outputId": "b393ccd1-817b-4df9-ac45-1af2eaf08d49"
      },
      "execution_count": 2,
      "outputs": [
        {
          "output_type": "stream",
          "name": "stdout",
          "text": [
            "Numbers have been written to numbers.txt\n"
          ]
        }
      ]
    },
    {
      "cell_type": "markdown",
      "source": [
        "18.  How would you implement a basic logging setup that logs to a file with rotation after 1MB."
      ],
      "metadata": {
        "id": "M6wu1PP7CbVC"
      }
    },
    {
      "cell_type": "code",
      "source": [
        "import logging\n",
        "from logging.handlers import RotatingFileHandler\n",
        "\n",
        "# Create a logger\n",
        "logger = logging.getLogger('my_logger')\n",
        "logger.setLevel(logging.DEBUG)  # Log all levels DEBUG and above\n",
        "\n",
        "# Create a rotating file handler\n",
        "handler = RotatingFileHandler(\n",
        "    'app.log',          # Log file name\n",
        "    maxBytes=1_000_000, # 1MB\n",
        "    backupCount=3       # Keep up to 3 backup files\n",
        ")\n",
        "\n",
        "# Create a formatter and set it for the handler\n",
        "formatter = logging.Formatter('%(asctime)s - %(levelname)s - %(message)s')\n",
        "handler.setFormatter(formatter)\n",
        "\n",
        "# Add the handler to the logger\n",
        "logger.addHandler(handler)\n",
        "\n",
        "# Example usage\n",
        "logger.debug(\"Debug message\")\n",
        "logger.info(\"Info message\")\n",
        "logger.error(\"Error message\")\n"
      ],
      "metadata": {
        "colab": {
          "base_uri": "https://localhost:8080/"
        },
        "id": "-rH5WQ2WCjYf",
        "outputId": "f341e5c2-a3d7-4c6d-afe8-924353f414a0"
      },
      "execution_count": 3,
      "outputs": [
        {
          "output_type": "stream",
          "name": "stderr",
          "text": [
            "DEBUG:my_logger:Debug message\n",
            "INFO:my_logger:Info message\n",
            "ERROR:my_logger:Error message\n"
          ]
        }
      ]
    },
    {
      "cell_type": "markdown",
      "source": [
        "19. Write a program that handles both IndexError and KeyError using a try-except block?"
      ],
      "metadata": {
        "id": "Rz6bnTyXCl-o"
      }
    },
    {
      "cell_type": "code",
      "source": [
        "my_list = [10, 20, 30]\n",
        "my_dict = {'a': 1, 'b': 2}\n",
        "\n",
        "try:\n",
        "    # Attempt to access an index that might be out of range\n",
        "    print(my_list[5])\n",
        "\n",
        "    # Attempt to access a dictionary key that might not exist\n",
        "    print(my_dict['z'])\n",
        "\n",
        "except IndexError:\n",
        "    print(\"Caught an IndexError: List index out of range.\")\n",
        "\n",
        "except KeyError:\n",
        "    print(\"Caught a KeyError: Key not found in dictionary.\")\n"
      ],
      "metadata": {
        "colab": {
          "base_uri": "https://localhost:8080/"
        },
        "id": "TLrU_cYqCweq",
        "outputId": "6cef9c37-3df9-4ea5-f9c2-6844b86c76f8"
      },
      "execution_count": 4,
      "outputs": [
        {
          "output_type": "stream",
          "name": "stdout",
          "text": [
            "Caught an IndexError: List index out of range.\n"
          ]
        }
      ]
    },
    {
      "cell_type": "markdown",
      "source": [
        "20. How would you open a file and read its contents using a context manager in Python?"
      ],
      "metadata": {
        "id": "LbUicvooCzrU"
      }
    },
    {
      "cell_type": "code",
      "source": [
        "with open('filename.txt', 'r') as file:\n",
        "    for line in file:\n",
        "        print(line.strip())  # strip() removes trailing newline characters\n"
      ],
      "metadata": {
        "colab": {
          "base_uri": "https://localhost:8080/",
          "height": 176
        },
        "collapsed": true,
        "id": "c7fHgag5C84Z",
        "outputId": "9a8c992c-5c8c-4bb3-9f44-1a85aa71f44f"
      },
      "execution_count": 5,
      "outputs": [
        {
          "output_type": "error",
          "ename": "FileNotFoundError",
          "evalue": "[Errno 2] No such file or directory: 'filename.txt'",
          "traceback": [
            "\u001b[0;31m---------------------------------------------------------------------------\u001b[0m",
            "\u001b[0;31mFileNotFoundError\u001b[0m                         Traceback (most recent call last)",
            "\u001b[0;32m/tmp/ipython-input-3983944514.py\u001b[0m in \u001b[0;36m<cell line: 0>\u001b[0;34m()\u001b[0m\n\u001b[0;32m----> 1\u001b[0;31m \u001b[0;32mwith\u001b[0m \u001b[0mopen\u001b[0m\u001b[0;34m(\u001b[0m\u001b[0;34m'filename.txt'\u001b[0m\u001b[0;34m,\u001b[0m \u001b[0;34m'r'\u001b[0m\u001b[0;34m)\u001b[0m \u001b[0;32mas\u001b[0m \u001b[0mfile\u001b[0m\u001b[0;34m:\u001b[0m\u001b[0;34m\u001b[0m\u001b[0;34m\u001b[0m\u001b[0m\n\u001b[0m\u001b[1;32m      2\u001b[0m     \u001b[0;32mfor\u001b[0m \u001b[0mline\u001b[0m \u001b[0;32min\u001b[0m \u001b[0mfile\u001b[0m\u001b[0;34m:\u001b[0m\u001b[0;34m\u001b[0m\u001b[0;34m\u001b[0m\u001b[0m\n\u001b[1;32m      3\u001b[0m         \u001b[0mprint\u001b[0m\u001b[0;34m(\u001b[0m\u001b[0mline\u001b[0m\u001b[0;34m.\u001b[0m\u001b[0mstrip\u001b[0m\u001b[0;34m(\u001b[0m\u001b[0;34m)\u001b[0m\u001b[0;34m)\u001b[0m  \u001b[0;31m# strip() removes trailing newline characters\u001b[0m\u001b[0;34m\u001b[0m\u001b[0;34m\u001b[0m\u001b[0m\n",
            "\u001b[0;31mFileNotFoundError\u001b[0m: [Errno 2] No such file or directory: 'filename.txt'"
          ]
        }
      ]
    },
    {
      "cell_type": "markdown",
      "source": [
        "21. Write a Python program that reads a file and prints the number of occurrences of a specific word."
      ],
      "metadata": {
        "id": "uegqa2_vDL1H"
      }
    },
    {
      "cell_type": "code",
      "source": [
        "def count_word_in_file(filename, target_word):\n",
        "    count = 0\n",
        "    with open(filename, 'r') as file:\n",
        "        for line in file:\n",
        "            # Split the line into words, normalize to lowercase for case-insensitive matching\n",
        "            words = line.lower().split()\n",
        "            count += words.count(target_word.lower())\n",
        "    return count\n",
        "\n",
        "# Example usage\n",
        "filename = 'example.txt'\n",
        "word_to_count = 'python'\n",
        "\n",
        "occurrences = count_word_in_file(filename, word_to_count)\n",
        "print(f\"The word '{word_to_count}' appears {occurrences} times in the file '{filename}'.\")\n"
      ],
      "metadata": {
        "colab": {
          "base_uri": "https://localhost:8080/",
          "height": 315
        },
        "collapsed": true,
        "id": "ZKhHin91DT1S",
        "outputId": "792bcb2b-8b1c-41d9-eeaf-8c35e09e9fff"
      },
      "execution_count": 6,
      "outputs": [
        {
          "output_type": "error",
          "ename": "FileNotFoundError",
          "evalue": "[Errno 2] No such file or directory: 'example.txt'",
          "traceback": [
            "\u001b[0;31m---------------------------------------------------------------------------\u001b[0m",
            "\u001b[0;31mFileNotFoundError\u001b[0m                         Traceback (most recent call last)",
            "\u001b[0;32m/tmp/ipython-input-4188728819.py\u001b[0m in \u001b[0;36m<cell line: 0>\u001b[0;34m()\u001b[0m\n\u001b[1;32m     12\u001b[0m \u001b[0mword_to_count\u001b[0m \u001b[0;34m=\u001b[0m \u001b[0;34m'python'\u001b[0m\u001b[0;34m\u001b[0m\u001b[0;34m\u001b[0m\u001b[0m\n\u001b[1;32m     13\u001b[0m \u001b[0;34m\u001b[0m\u001b[0m\n\u001b[0;32m---> 14\u001b[0;31m \u001b[0moccurrences\u001b[0m \u001b[0;34m=\u001b[0m \u001b[0mcount_word_in_file\u001b[0m\u001b[0;34m(\u001b[0m\u001b[0mfilename\u001b[0m\u001b[0;34m,\u001b[0m \u001b[0mword_to_count\u001b[0m\u001b[0;34m)\u001b[0m\u001b[0;34m\u001b[0m\u001b[0;34m\u001b[0m\u001b[0m\n\u001b[0m\u001b[1;32m     15\u001b[0m \u001b[0mprint\u001b[0m\u001b[0;34m(\u001b[0m\u001b[0;34mf\"The word '{word_to_count}' appears {occurrences} times in the file '{filename}'.\"\u001b[0m\u001b[0;34m)\u001b[0m\u001b[0;34m\u001b[0m\u001b[0;34m\u001b[0m\u001b[0m\n",
            "\u001b[0;32m/tmp/ipython-input-4188728819.py\u001b[0m in \u001b[0;36mcount_word_in_file\u001b[0;34m(filename, target_word)\u001b[0m\n\u001b[1;32m      1\u001b[0m \u001b[0;32mdef\u001b[0m \u001b[0mcount_word_in_file\u001b[0m\u001b[0;34m(\u001b[0m\u001b[0mfilename\u001b[0m\u001b[0;34m,\u001b[0m \u001b[0mtarget_word\u001b[0m\u001b[0;34m)\u001b[0m\u001b[0;34m:\u001b[0m\u001b[0;34m\u001b[0m\u001b[0;34m\u001b[0m\u001b[0m\n\u001b[1;32m      2\u001b[0m     \u001b[0mcount\u001b[0m \u001b[0;34m=\u001b[0m \u001b[0;36m0\u001b[0m\u001b[0;34m\u001b[0m\u001b[0;34m\u001b[0m\u001b[0m\n\u001b[0;32m----> 3\u001b[0;31m     \u001b[0;32mwith\u001b[0m \u001b[0mopen\u001b[0m\u001b[0;34m(\u001b[0m\u001b[0mfilename\u001b[0m\u001b[0;34m,\u001b[0m \u001b[0;34m'r'\u001b[0m\u001b[0;34m)\u001b[0m \u001b[0;32mas\u001b[0m \u001b[0mfile\u001b[0m\u001b[0;34m:\u001b[0m\u001b[0;34m\u001b[0m\u001b[0;34m\u001b[0m\u001b[0m\n\u001b[0m\u001b[1;32m      4\u001b[0m         \u001b[0;32mfor\u001b[0m \u001b[0mline\u001b[0m \u001b[0;32min\u001b[0m \u001b[0mfile\u001b[0m\u001b[0;34m:\u001b[0m\u001b[0;34m\u001b[0m\u001b[0;34m\u001b[0m\u001b[0m\n\u001b[1;32m      5\u001b[0m             \u001b[0;31m# Split the line into words, normalize to lowercase for case-insensitive matching\u001b[0m\u001b[0;34m\u001b[0m\u001b[0;34m\u001b[0m\u001b[0m\n",
            "\u001b[0;31mFileNotFoundError\u001b[0m: [Errno 2] No such file or directory: 'example.txt'"
          ]
        }
      ]
    },
    {
      "cell_type": "markdown",
      "source": [
        "22. How can you check if a file is empty before attempting to read its contents?"
      ],
      "metadata": {
        "id": "0_N3txP9DYz0"
      }
    },
    {
      "cell_type": "code",
      "source": [
        "import os\n",
        "\n",
        "filename = 'example.txt'\n",
        "\n",
        "if os.path.getsize(filename) > 0:\n",
        "    with open(filename, 'r') as file:\n",
        "        contents = file.read()\n",
        "        print(contents)\n",
        "else:\n",
        "    print(\"The file is empty.\")\n"
      ],
      "metadata": {
        "colab": {
          "base_uri": "https://localhost:8080/",
          "height": 245
        },
        "collapsed": true,
        "id": "Lo4P4MEiDhEc",
        "outputId": "38c6266a-7d7e-4551-a699-f336e079f619"
      },
      "execution_count": 8,
      "outputs": [
        {
          "output_type": "error",
          "ename": "FileNotFoundError",
          "evalue": "[Errno 2] No such file or directory: 'example.txt'",
          "traceback": [
            "\u001b[0;31m---------------------------------------------------------------------------\u001b[0m",
            "\u001b[0;31mFileNotFoundError\u001b[0m                         Traceback (most recent call last)",
            "\u001b[0;32m/tmp/ipython-input-3201728022.py\u001b[0m in \u001b[0;36m<cell line: 0>\u001b[0;34m()\u001b[0m\n\u001b[1;32m      3\u001b[0m \u001b[0mfilename\u001b[0m \u001b[0;34m=\u001b[0m \u001b[0;34m'example.txt'\u001b[0m\u001b[0;34m\u001b[0m\u001b[0;34m\u001b[0m\u001b[0m\n\u001b[1;32m      4\u001b[0m \u001b[0;34m\u001b[0m\u001b[0m\n\u001b[0;32m----> 5\u001b[0;31m \u001b[0;32mif\u001b[0m \u001b[0mos\u001b[0m\u001b[0;34m.\u001b[0m\u001b[0mpath\u001b[0m\u001b[0;34m.\u001b[0m\u001b[0mgetsize\u001b[0m\u001b[0;34m(\u001b[0m\u001b[0mfilename\u001b[0m\u001b[0;34m)\u001b[0m \u001b[0;34m>\u001b[0m \u001b[0;36m0\u001b[0m\u001b[0;34m:\u001b[0m\u001b[0;34m\u001b[0m\u001b[0;34m\u001b[0m\u001b[0m\n\u001b[0m\u001b[1;32m      6\u001b[0m     \u001b[0;32mwith\u001b[0m \u001b[0mopen\u001b[0m\u001b[0;34m(\u001b[0m\u001b[0mfilename\u001b[0m\u001b[0;34m,\u001b[0m \u001b[0;34m'r'\u001b[0m\u001b[0;34m)\u001b[0m \u001b[0;32mas\u001b[0m \u001b[0mfile\u001b[0m\u001b[0;34m:\u001b[0m\u001b[0;34m\u001b[0m\u001b[0;34m\u001b[0m\u001b[0m\n\u001b[1;32m      7\u001b[0m         \u001b[0mcontents\u001b[0m \u001b[0;34m=\u001b[0m \u001b[0mfile\u001b[0m\u001b[0;34m.\u001b[0m\u001b[0mread\u001b[0m\u001b[0;34m(\u001b[0m\u001b[0;34m)\u001b[0m\u001b[0;34m\u001b[0m\u001b[0;34m\u001b[0m\u001b[0m\n",
            "\u001b[0;32m/usr/lib/python3.12/genericpath.py\u001b[0m in \u001b[0;36mgetsize\u001b[0;34m(filename)\u001b[0m\n",
            "\u001b[0;31mFileNotFoundError\u001b[0m: [Errno 2] No such file or directory: 'example.txt'"
          ]
        }
      ]
    },
    {
      "cell_type": "markdown",
      "source": [
        "23. Write a Python program that writes to a log file when an error occurs during file handling."
      ],
      "metadata": {
        "id": "4PM_0eHfDt32"
      }
    },
    {
      "cell_type": "code",
      "source": [
        "import logging\n",
        "\n",
        "# Configure logging to write to 'error.log' with time and error level\n",
        "logging.basicConfig(filename='error.log',\n",
        "                    level=logging.ERROR,\n",
        "                    format='%(asctime)s - %(levelname)s - %(message)s')\n",
        "\n",
        "def read_file(filename):\n",
        "    try:\n",
        "        with open(filename, 'r') as file:\n",
        "            contents = file.read()\n",
        "            print(contents)\n",
        "    except Exception as e:\n",
        "        logging.error(f\"Error reading file '{filename}': {e}\")\n",
        "        print(f\"An error occurred. Check 'error.log' for details.\")\n",
        "\n",
        "# Example usage\n",
        "read_file('nonexistent_file.txt')\n"
      ],
      "metadata": {
        "colab": {
          "base_uri": "https://localhost:8080/"
        },
        "id": "2yIMly0iD1SL",
        "outputId": "b1de62cf-2a28-4de5-f402-26dcf9f49009"
      },
      "execution_count": 9,
      "outputs": [
        {
          "output_type": "stream",
          "name": "stderr",
          "text": [
            "ERROR:root:Error reading file 'nonexistent_file.txt': [Errno 2] No such file or directory: 'nonexistent_file.txt'\n"
          ]
        },
        {
          "output_type": "stream",
          "name": "stdout",
          "text": [
            "An error occurred. Check 'error.log' for details.\n"
          ]
        }
      ]
    }
  ]
}